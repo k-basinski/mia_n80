{
 "cells": [
  {
   "cell_type": "code",
   "execution_count": 1,
   "metadata": {},
   "outputs": [],
   "source": [
    "import numpy as np\n",
    "import pandas as pd\n",
    "import seaborn as sns"
   ]
  },
  {
   "cell_type": "code",
   "execution_count": 2,
   "metadata": {},
   "outputs": [],
   "source": [
    "def rec_condition(cond):\n",
    "    ''' recodes every condition to proper name'''\n",
    "    if cond[0] == 'a':\n",
    "        return 'arousal'\n",
    "    elif cond[0] == 'v':\n",
    "        return 'valence'\n",
    "    elif cond[0] == 'd':\n",
    "        return 'depth'\n",
    "    elif cond[0] == 'n':\n",
    "        return 'noise'\n",
    "    else:\n",
    "        return ''"
   ]
  },
  {
   "cell_type": "code",
   "execution_count": 3,
   "metadata": {},
   "outputs": [],
   "source": [
    "def gen_cond_prefix(cond):\n",
    "    ''' generate condition prefix list'''\n",
    "    prefixes = list('avnd')\n",
    "    result = [pre + '_' + cond for pre in prefixes]\n",
    "    filter_out = ['n_music_mood', 'n_song_order', 'n_music_pref']\n",
    "    result_filter = [res for res in result if res not in filter_out]\n",
    "    return result_filter"
   ]
  },
  {
   "cell_type": "code",
   "execution_count": 4,
   "metadata": {},
   "outputs": [],
   "source": [
    "def list_melted_cond(df, cond_names, sub_id='sub_id'):\n",
    "    ''' Makes a list of melted dataframes from the \n",
    "    big dataframe df, based on cond_names.'''\n",
    "    \n",
    "    output = []\n",
    "    \n",
    "    for name in cond_names:\n",
    "        melted = df.melt(id_vars=sub_id,\n",
    "                       value_vars=gen_cond_prefix(name),\n",
    "                       value_name=name,\n",
    "                       var_name='condition')\n",
    "        output.append(melted)\n",
    "    \n",
    "    return output"
   ]
  },
  {
   "cell_type": "code",
   "execution_count": 5,
   "metadata": {},
   "outputs": [],
   "source": [
    "df = pd.read_csv('data.csv', delimiter=';')"
   ]
  },
  {
   "cell_type": "code",
   "execution_count": 9,
   "metadata": {},
   "outputs": [
    {
     "name": "stdout",
     "output_type": "stream",
     "text": [
      "<class 'pandas.core.frame.DataFrame'>\n",
      "RangeIndex: 81 entries, 0 to 80\n",
      "Data columns (total 67 columns):\n",
      "sub_id                   81 non-null int64\n",
      "add_info                 7 non-null object\n",
      "gender                   81 non-null object\n",
      "date                     81 non-null object\n",
      "age                      81 non-null int64\n",
      "lefty                    81 non-null int64\n",
      "education                81 non-null object\n",
      "years_music_education    81 non-null int64\n",
      "curr_making_music        81 non-null int64\n",
      "curr_mood                81 non-null int64\n",
      "curr_hr                  81 non-null int64\n",
      "curr_bp_sys              81 non-null int64\n",
      "curr_bp_dias             81 non-null int64\n",
      "avdn_order               81 non-null object\n",
      "a_pain_max               81 non-null int64\n",
      "a_pain_avg               81 non-null int64\n",
      "a_pain_contr             81 non-null int64\n",
      "a_music_pref             81 non-null int64\n",
      "a_own_mood               81 non-null int64\n",
      "a_music_mood             81 non-null int64\n",
      "a_order                  81 non-null int64\n",
      "a_song_order             81 non-null int64\n",
      "a_pain_thresh            81 non-null int64\n",
      "a_pain_toler             81 non-null int64\n",
      "a_hr                     81 non-null int64\n",
      "a_bp_sys                 81 non-null int64\n",
      "a_bp_dias                81 non-null int64\n",
      "a_nitt                   78 non-null object\n",
      "v_pain_max               81 non-null int64\n",
      "v_pain_avg               81 non-null int64\n",
      "v_pain_contr             81 non-null int64\n",
      "v_music_pref             80 non-null float64\n",
      "v_own_mood               81 non-null int64\n",
      "v_music_mood             80 non-null float64\n",
      "v_order                  81 non-null int64\n",
      "v_song_order             81 non-null int64\n",
      "v_pain_thresh            81 non-null int64\n",
      "v_pain_toler             81 non-null int64\n",
      "v_hr                     81 non-null int64\n",
      "v_bp_sys                 81 non-null int64\n",
      "v_bp_dias                81 non-null int64\n",
      "v_nitt                   74 non-null object\n",
      "d_pain_max               81 non-null int64\n",
      "d_pain_avg               81 non-null int64\n",
      "d_pain_contr             81 non-null int64\n",
      "d_music_pref             81 non-null int64\n",
      "d_own_mood               81 non-null int64\n",
      "d_music_mood             81 non-null int64\n",
      "d_order                  81 non-null int64\n",
      "d_song_order             81 non-null int64\n",
      "d_pain_thresh            81 non-null int64\n",
      "d_pain_toler             81 non-null int64\n",
      "d_hr                     81 non-null int64\n",
      "d_bp_sys                 81 non-null int64\n",
      "d_bp_dias                81 non-null int64\n",
      "d_nitt                   76 non-null object\n",
      "n_pain_max               81 non-null int64\n",
      "n_pain_avg               81 non-null int64\n",
      "n_pain_contr             81 non-null int64\n",
      "n_own_mood               81 non-null int64\n",
      "n_order                  81 non-null int64\n",
      "n_pain_thresh            81 non-null int64\n",
      "n_pain_toler             81 non-null int64\n",
      "n_hr                     81 non-null int64\n",
      "n_bp_sys                 81 non-null int64\n",
      "n_bp_dias                81 non-null int64\n",
      "n_nitt                   77 non-null object\n",
      "dtypes: float64(2), int64(56), object(9)\n",
      "memory usage: 42.5+ KB\n"
     ]
    }
   ],
   "source": [
    "df.info()"
   ]
  },
  {
   "cell_type": "code",
   "execution_count": 6,
   "metadata": {},
   "outputs": [],
   "source": [
    "cond_names = ['pain_max', 'pain_avg', 'pain_contr', 'pain_thresh',\n",
    "             'pain_toler', 'own_mood', 'music_mood', 'music_pref', 'order',\n",
    "             'song_order', 'hr', 'bp_sys', 'bp_dias', 'nitt']"
   ]
  },
  {
   "cell_type": "code",
   "execution_count": 7,
   "metadata": {},
   "outputs": [],
   "source": [
    "mdf = pd.concat(list_melted_cond(df, cond_names), axis=1)\n",
    "selcols = [0, 1 ]\n",
    "selcols += list(range(2, 42, 3))\n",
    "mdf = mdf.iloc[:, selcols]\n",
    "mdf.condition = mdf.condition.apply(rec_condition)"
   ]
  },
  {
   "cell_type": "code",
   "execution_count": 8,
   "metadata": {},
   "outputs": [],
   "source": [
    "mdf.to_csv('melted_data.csv', index=False)"
   ]
  },
  {
   "cell_type": "markdown",
   "metadata": {},
   "source": [
    "## Teraz diffy"
   ]
  },
  {
   "cell_type": "code",
   "execution_count": 20,
   "metadata": {},
   "outputs": [],
   "source": [
    "a = pd.DataFrame({'sub_id': df.sub_id,\n",
    "    'condition': 'arousal',\n",
    "    'pain_max': df.a_pain_max - df.n_pain_max,\n",
    "    'pain_avg': df.a_pain_avg - df.n_pain_avg,\n",
    "    'pain_contr': df.a_pain_contr - df.n_pain_contr,\n",
    "    'pain_thresh': df.a_pain_thresh - df.n_pain_thresh,\n",
    "    'pain_toler': df.a_pain_toler - df.n_pain_toler,\n",
    "    'own_mood_vs_noise': df.a_own_mood - df.n_own_mood,\n",
    "    'own_mood_vs_curr': df.a_own_mood - df.curr_mood,\n",
    "    'music_pref': df.a_music_pref,\n",
    "    'order': df.a_order,\n",
    "    'song_order': df.a_song_order,\n",
    "    'hr': df.a_hr - df.curr_hr,\n",
    "    'bp_sys': df.a_bp_sys - df.curr_bp_sys,\n",
    "    'bp_dias': df.a_bp_dias - df.curr_bp_dias\n",
    "                 })\n",
    "\n",
    "v = pd.DataFrame({'sub_id': df.sub_id,\n",
    "    'condition': 'valence',\n",
    "    'pain_max': df.v_pain_max - df.n_pain_max,\n",
    "    'pain_avg': df.v_pain_avg - df.n_pain_avg,\n",
    "    'pain_contr': df.v_pain_contr - df.n_pain_contr,\n",
    "    'pain_thresh': df.v_pain_thresh - df.n_pain_thresh,\n",
    "    'pain_toler': df.v_pain_toler - df.n_pain_toler,\n",
    "    'own_mood_vs_noise': df.v_own_mood - df.n_own_mood,\n",
    "    'own_mood_vs_curr': df.v_own_mood - df.curr_mood,\n",
    "    'music_pref': df.v_music_pref,\n",
    "    'order': df.v_order,\n",
    "    'song_order': df.v_song_order,\n",
    "    'hr': df.v_hr - df.curr_hr,\n",
    "    'bp_sys': df.v_bp_sys - df.curr_bp_sys,\n",
    "    'bp_dias': df.v_bp_dias - df.curr_bp_dias\n",
    "                 })\n",
    "\n",
    "d = pd.DataFrame({'sub_id': df.sub_id,\n",
    "    'condition': 'depth',\n",
    "    'pain_max': df.d_pain_max - df.n_pain_max,\n",
    "    'pain_avg': df.d_pain_avg - df.n_pain_avg,\n",
    "    'pain_contr': df.d_pain_contr - df.n_pain_contr,\n",
    "    'pain_thresh': df.d_pain_thresh - df.n_pain_thresh,\n",
    "    'pain_toler': df.d_pain_toler - df.n_pain_toler,\n",
    "    'own_mood_vs_noise': df.d_own_mood - df.n_own_mood,\n",
    "    'own_mood_vs_curr': df.d_own_mood - df.curr_mood,\n",
    "    'music_pref': df.d_music_pref,\n",
    "    'order': df.d_order,\n",
    "    'song_order': df.d_song_order,\n",
    "    'hr': df.d_hr - df.curr_hr,\n",
    "    'bp_sys': df.d_bp_sys - df.curr_bp_sys,\n",
    "    'bp_dias': df.d_bp_dias - df.curr_bp_dias\n",
    "                 })"
   ]
  },
  {
   "cell_type": "code",
   "execution_count": 24,
   "metadata": {},
   "outputs": [],
   "source": [
    "diff_df = pd.concat([a, v, d])\n",
    "diff_df.to_csv('diff_data.csv', index=False)"
   ]
  }
 ],
 "metadata": {
  "kernelspec": {
   "display_name": "Python 3",
   "language": "python",
   "name": "python3"
  },
  "language_info": {
   "codemirror_mode": {
    "name": "ipython",
    "version": 3
   },
   "file_extension": ".py",
   "mimetype": "text/x-python",
   "name": "python",
   "nbconvert_exporter": "python",
   "pygments_lexer": "ipython3",
   "version": "3.7.3"
  }
 },
 "nbformat": 4,
 "nbformat_minor": 4
}
