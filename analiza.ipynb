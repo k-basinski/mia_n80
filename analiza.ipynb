{
 "cells": [
  {
   "cell_type": "code",
   "execution_count": 37,
   "metadata": {},
   "outputs": [],
   "source": [
    "library(tidyverse)\n",
    "library(ez)"
   ]
  },
  {
   "cell_type": "code",
   "execution_count": 38,
   "metadata": {},
   "outputs": [
    {
     "name": "stderr",
     "output_type": "stream",
     "text": [
      "Parsed with column specification:\n",
      "cols(\n",
      "  .default = col_double(),\n",
      "  add_info = \u001b[31mcol_character()\u001b[39m,\n",
      "  gender = \u001b[31mcol_character()\u001b[39m,\n",
      "  date = \u001b[31mcol_character()\u001b[39m,\n",
      "  education = \u001b[31mcol_character()\u001b[39m,\n",
      "  avdn_order = \u001b[31mcol_character()\u001b[39m,\n",
      "  a_nitt = \u001b[31mcol_character()\u001b[39m,\n",
      "  v_nitt = \u001b[31mcol_character()\u001b[39m,\n",
      "  d_nitt = \u001b[31mcol_character()\u001b[39m,\n",
      "  n_nitt = \u001b[31mcol_character()\u001b[39m\n",
      ")\n",
      "See spec(...) for full column specifications.\n",
      "Parsed with column specification:\n",
      "cols(\n",
      "  sub_id = \u001b[32mcol_double()\u001b[39m,\n",
      "  condition = \u001b[31mcol_character()\u001b[39m,\n",
      "  pain_max = \u001b[32mcol_double()\u001b[39m,\n",
      "  pain_avg = \u001b[32mcol_double()\u001b[39m,\n",
      "  pain_contr = \u001b[32mcol_double()\u001b[39m,\n",
      "  pain_thresh = \u001b[32mcol_double()\u001b[39m,\n",
      "  pain_toler = \u001b[32mcol_double()\u001b[39m,\n",
      "  own_mood = \u001b[32mcol_double()\u001b[39m,\n",
      "  music_mood = \u001b[32mcol_double()\u001b[39m,\n",
      "  music_pref = \u001b[32mcol_double()\u001b[39m,\n",
      "  order = \u001b[32mcol_double()\u001b[39m,\n",
      "  song_order = \u001b[32mcol_double()\u001b[39m,\n",
      "  hr = \u001b[32mcol_double()\u001b[39m,\n",
      "  bp_sys = \u001b[32mcol_double()\u001b[39m,\n",
      "  bp_dias = \u001b[32mcol_double()\u001b[39m,\n",
      "  nitt = \u001b[31mcol_character()\u001b[39m\n",
      ")\n",
      "Parsed with column specification:\n",
      "cols(\n",
      "  sub_id = \u001b[32mcol_double()\u001b[39m,\n",
      "  condition = \u001b[31mcol_character()\u001b[39m,\n",
      "  pain_max = \u001b[32mcol_double()\u001b[39m,\n",
      "  pain_avg = \u001b[32mcol_double()\u001b[39m,\n",
      "  pain_contr = \u001b[32mcol_double()\u001b[39m,\n",
      "  pain_thresh = \u001b[32mcol_double()\u001b[39m,\n",
      "  pain_toler = \u001b[32mcol_double()\u001b[39m,\n",
      "  own_mood_vs_noise = \u001b[32mcol_double()\u001b[39m,\n",
      "  own_mood_vs_curr = \u001b[32mcol_double()\u001b[39m,\n",
      "  music_pref = \u001b[32mcol_double()\u001b[39m,\n",
      "  order = \u001b[32mcol_double()\u001b[39m,\n",
      "  song_order = \u001b[32mcol_double()\u001b[39m,\n",
      "  hr = \u001b[32mcol_double()\u001b[39m,\n",
      "  bp_sys = \u001b[32mcol_double()\u001b[39m,\n",
      "  bp_dias = \u001b[32mcol_double()\u001b[39m\n",
      ")\n"
     ]
    }
   ],
   "source": [
    "df <- read_delim('data.csv', delim = ';')\n",
    "mdf <- read_delim('melted_data.csv', delim = ',')\n",
    "ddf <- read_delim('diff_data.csv', delim = ',')"
   ]
  },
  {
   "cell_type": "code",
   "execution_count": 39,
   "metadata": {},
   "outputs": [
    {
     "name": "stdout",
     "output_type": "stream",
     "text": [
      "Observations: 243\n",
      "Variables: 15\n",
      "$ sub_id            \u001b[3m\u001b[38;5;246m<dbl>\u001b[39m\u001b[23m 1, 22, 32, 4, 11, 6, 7, 8, 9, 10, 11, 12, 13, 14, 1…\n",
      "$ condition         \u001b[3m\u001b[38;5;246m<chr>\u001b[39m\u001b[23m \"arousal\", \"arousal\", \"arousal\", \"arousal\", \"arousa…\n",
      "$ pain_max          \u001b[3m\u001b[38;5;246m<dbl>\u001b[39m\u001b[23m 0, -1, -5, -1, 0, -1, 0, -1, -1, -1, 0, 0, -2, -1, …\n",
      "$ pain_avg          \u001b[3m\u001b[38;5;246m<dbl>\u001b[39m\u001b[23m -4, 0, -4, 0, -2, 1, -1, -2, 0, 0, -2, 0, -2, -2, -…\n",
      "$ pain_contr        \u001b[3m\u001b[38;5;246m<dbl>\u001b[39m\u001b[23m -1, 0, 0, 1, 0, 3, -7, 0, 0, -2, 0, 0, -4, 1, 1, 3,…\n",
      "$ pain_thresh       \u001b[3m\u001b[38;5;246m<dbl>\u001b[39m\u001b[23m 3, 8, 3, 18, 10, 2, 15, 8, -2, 8, 4, -30, 82, 0, -2…\n",
      "$ pain_toler        \u001b[3m\u001b[38;5;246m<dbl>\u001b[39m\u001b[23m 0, 0, 0, 50, 0, 11, 8, 0, 0, 0, 0, 0, 85, 9, 39, 12…\n",
      "$ own_mood_vs_noise \u001b[3m\u001b[38;5;246m<dbl>\u001b[39m\u001b[23m 1, 0, 0, 2, 2, 3, 0, 0, 0, 1, 1, -1, 2, 0, 1, 1, 0,…\n",
      "$ own_mood_vs_curr  \u001b[3m\u001b[38;5;246m<dbl>\u001b[39m\u001b[23m 2, 0, 1, 2, 1, 0, 0, 0, 0, -1, 1, 0, 1, 0, 1, 0, 0,…\n",
      "$ music_pref        \u001b[3m\u001b[38;5;246m<dbl>\u001b[39m\u001b[23m 4, 7, 8, 8, 5, 5, 8, 6, 6, 5, 7, 6, 7, 6, 8, 7, 7, …\n",
      "$ order             \u001b[3m\u001b[38;5;246m<dbl>\u001b[39m\u001b[23m 1, 1, 4, 3, 4, 1, 1, 1, 1, 3, 3, 3, 4, 2, 2, 3, 4, …\n",
      "$ song_order        \u001b[3m\u001b[38;5;246m<dbl>\u001b[39m\u001b[23m 1, 1, 2, 3, 2, 5, 6, 7, 8, 2, 2, 3, 4, 5, 7, 6, 2, …\n",
      "$ hr                \u001b[3m\u001b[38;5;246m<dbl>\u001b[39m\u001b[23m -6, 0, -7, -4, -7, 0, 8, -28, -19, -4, -9, -19, -2,…\n",
      "$ bp_sys            \u001b[3m\u001b[38;5;246m<dbl>\u001b[39m\u001b[23m -21, -6, -6, -22, 2, 0, -4, 13, 6, -5, -2, -29, 3, …\n",
      "$ bp_dias           \u001b[3m\u001b[38;5;246m<dbl>\u001b[39m\u001b[23m -2, -4, -2, 5, 8, -3, -2, -14, 3, -2, 2, -1, 5, -5,…\n"
     ]
    }
   ],
   "source": [
    "glimpse(ddf)"
   ]
  },
  {
   "cell_type": "code",
   "execution_count": 40,
   "metadata": {},
   "outputs": [],
   "source": [
    "mdf$condition = factor(mdf$condition)\n",
    "mdf$sub_id = factor(mdf$sub_id)"
   ]
  },
  {
   "cell_type": "code",
   "execution_count": 41,
   "metadata": {},
   "outputs": [
    {
     "name": "stderr",
     "output_type": "stream",
     "text": [
      "Warning message:\n",
      "“Collapsing data to cell means. *IF* the requested effects are a subset of the full design, you must use the \"within_full\" argument, else results may be inaccurate.”"
     ]
    },
    {
     "name": "stdout",
     "output_type": "stream",
     "text": [
      "$ANOVA\n",
      "     Effect DFn DFd        F          p p<.05         ges\n",
      "2 condition   3 237 3.409981 0.01825983     * 0.006266266\n",
      "\n",
      "$`Mauchly's Test for Sphericity`\n",
      "     Effect         W         p p<.05\n",
      "2 condition 0.9084003 0.1882052      \n",
      "\n",
      "$`Sphericity Corrections`\n",
      "     Effect       GGe      p[GG] p[GG]<.05       HFe      p[HF] p[HF]<.05\n",
      "2 condition 0.9447174 0.02037352         * 0.9835212 0.01886523         *\n",
      "\n"
     ]
    },
    {
     "data": {
      "text/plain": [
       "\n",
       "\tPairwise comparisons using paired t tests \n",
       "\n",
       "data:  mdf$pain_max and mdf$condition \n",
       "\n",
       "        arousal depth noise\n",
       "depth   1.000   -     -    \n",
       "noise   0.527   1.000 -    \n",
       "valence 0.866   0.219 0.023\n",
       "\n",
       "P value adjustment method: bonferroni "
      ]
     },
     "metadata": {},
     "output_type": "display_data"
    }
   ],
   "source": [
    "model <- ezANOVA(mdf, dv = pain_max, within = condition, wid = sub_id)\n",
    "print(model)\n",
    "pairwise.t.test(mdf$pain_max, mdf$condition, paired = T, p.adjust.method = \"bonferroni\")"
   ]
  },
  {
   "cell_type": "code",
   "execution_count": 42,
   "metadata": {},
   "outputs": [
    {
     "name": "stderr",
     "output_type": "stream",
     "text": [
      "Warning message:\n",
      "“Collapsing data to cell means. *IF* the requested effects are a subset of the full design, you must use the \"within_full\" argument, else results may be inaccurate.”"
     ]
    },
    {
     "name": "stdout",
     "output_type": "stream",
     "text": [
      "$ANOVA\n",
      "     Effect DFn DFd        F           p p<.05        ges\n",
      "2 condition   3 237 5.114079 0.001906612     * 0.01204541\n",
      "\n",
      "$`Mauchly's Test for Sphericity`\n",
      "     Effect         W         p p<.05\n",
      "2 condition 0.9299923 0.3427658      \n",
      "\n",
      "$`Sphericity Corrections`\n",
      "     Effect       GGe       p[GG] p[GG]<.05      HFe       p[HF] p[HF]<.05\n",
      "2 condition 0.9553474 0.002268532         * 0.995103 0.001943267         *\n",
      "\n"
     ]
    },
    {
     "data": {
      "text/plain": [
       "\n",
       "\tPairwise comparisons using paired t tests \n",
       "\n",
       "data:  mdf$pain_avg and mdf$condition \n",
       "\n",
       "        arousal depth  noise \n",
       "depth   1.0000  -      -     \n",
       "noise   0.0601  0.0200 -     \n",
       "valence 1.0000  1.0000 0.0074\n",
       "\n",
       "P value adjustment method: bonferroni "
      ]
     },
     "metadata": {},
     "output_type": "display_data"
    }
   ],
   "source": [
    "model <- ezANOVA(mdf, dv = pain_avg, within = condition, wid = sub_id)\n",
    "print(model) \n",
    "pairwise.t.test(mdf$pain_avg, mdf$condition, paired = T, p.adjust.method = \"bonferroni\")"
   ]
  },
  {
   "cell_type": "code",
   "execution_count": 43,
   "metadata": {},
   "outputs": [
    {
     "name": "stderr",
     "output_type": "stream",
     "text": [
      "Warning message:\n",
      "“Collapsing data to cell means. *IF* the requested effects are a subset of the full design, you must use the \"within_full\" argument, else results may be inaccurate.”"
     ]
    },
    {
     "name": "stdout",
     "output_type": "stream",
     "text": [
      "$ANOVA\n",
      "     Effect DFn DFd        F         p p<.05         ges\n",
      "2 condition   3 237 1.036717 0.3769966       0.002670408\n",
      "\n",
      "$`Mauchly's Test for Sphericity`\n",
      "     Effect         W         p p<.05\n",
      "2 condition 0.9322175 0.3629107      \n",
      "\n",
      "$`Sphericity Corrections`\n",
      "     Effect       GGe     p[GG] p[GG]<.05       HFe     p[HF] p[HF]<.05\n",
      "2 condition 0.9541436 0.3749287           0.9937909 0.3767258          \n",
      "\n"
     ]
    }
   ],
   "source": [
    "model <- ezANOVA(mdf, dv = pain_contr, within = condition, wid = sub_id)\n",
    "print(model)"
   ]
  },
  {
   "cell_type": "code",
   "execution_count": 44,
   "metadata": {},
   "outputs": [
    {
     "name": "stderr",
     "output_type": "stream",
     "text": [
      "Warning message:\n",
      "“Collapsing data to cell means. *IF* the requested effects are a subset of the full design, you must use the \"within_full\" argument, else results may be inaccurate.”"
     ]
    },
    {
     "name": "stdout",
     "output_type": "stream",
     "text": [
      "$ANOVA\n",
      "     Effect DFn DFd        F         p p<.05         ges\n",
      "2 condition   3 237 1.734115 0.1606629       0.003180239\n",
      "\n",
      "$`Mauchly's Test for Sphericity`\n",
      "     Effect         W         p p<.05\n",
      "2 condition 0.9865736 0.9583857      \n",
      "\n",
      "$`Sphericity Corrections`\n",
      "     Effect       GGe     p[GG] p[GG]<.05      HFe     p[HF] p[HF]<.05\n",
      "2 condition 0.9911006 0.1611774           1.034129 0.1606629          \n",
      "\n"
     ]
    }
   ],
   "source": [
    "model <- ezANOVA(mdf, dv = pain_thresh, within = condition, wid = sub_id)\n",
    "print(model) "
   ]
  },
  {
   "cell_type": "code",
   "execution_count": 47,
   "metadata": {},
   "outputs": [
    {
     "name": "stderr",
     "output_type": "stream",
     "text": [
      "Warning message:\n",
      "“Collapsing data to cell means. *IF* the requested effects are a subset of the full design, you must use the \"within_full\" argument, else results may be inaccurate.”"
     ]
    },
    {
     "name": "stdout",
     "output_type": "stream",
     "text": [
      "$ANOVA\n",
      "     Effect DFn DFd        F            p p<.05         ges\n",
      "2 condition   3 237 7.441212 8.783871e-05     * 0.007056496\n",
      "\n",
      "$`Mauchly's Test for Sphericity`\n",
      "     Effect         W        p p<.05\n",
      "2 condition 0.9625475 0.705124      \n",
      "\n",
      "$`Sphericity Corrections`\n",
      "     Effect       GGe        p[GG] p[GG]<.05      HFe        p[HF] p[HF]<.05\n",
      "2 condition 0.9760963 0.0001029551         * 1.017738 8.783871e-05         *\n",
      "\n"
     ]
    },
    {
     "data": {
      "text/plain": [
       "\n",
       "\tPairwise comparisons using paired t tests \n",
       "\n",
       "data:  mdf$pain_toler and mdf$condition \n",
       "\n",
       "        arousal depth   noise  \n",
       "depth   1.00000 -       -      \n",
       "noise   0.00029 0.00071 -      \n",
       "valence 1.00000 1.00000 0.01303\n",
       "\n",
       "P value adjustment method: bonferroni "
      ]
     },
     "metadata": {},
     "output_type": "display_data"
    }
   ],
   "source": [
    "model <- ezANOVA(mdf, dv = pain_toler, within = condition, wid = sub_id)\n",
    "print(model) \n",
    "pairwise.t.test(mdf$pain_toler, mdf$condition, paired = T, p.adjust.method = \"bonferroni\")"
   ]
  },
  {
   "cell_type": "code",
   "execution_count": 49,
   "metadata": {},
   "outputs": [
    {
     "name": "stderr",
     "output_type": "stream",
     "text": [
      "Warning message:\n",
      "“You have removed one or more levels from variable \"condition\". Refactoring for ANOVA.”Warning message:\n",
      "“Collapsing data to cell means. *IF* the requested effects are a subset of the full design, you must use the \"within_full\" argument, else results may be inaccurate.”"
     ]
    },
    {
     "name": "stdout",
     "output_type": "stream",
     "text": [
      "$ANOVA\n",
      "     Effect DFn DFd        F           p p<.05       ges\n",
      "2 condition   2 158 46.62747 1.21578e-16     * 0.2459389\n",
      "\n",
      "$`Mauchly's Test for Sphericity`\n",
      "     Effect         W         p p<.05\n",
      "2 condition 0.9827919 0.5081608      \n",
      "\n",
      "$`Sphericity Corrections`\n",
      "     Effect      GGe        p[GG] p[GG]<.05      HFe       p[HF] p[HF]<.05\n",
      "2 condition 0.983083 2.112764e-16         * 1.007955 1.21578e-16         *\n",
      "\n"
     ]
    },
    {
     "data": {
      "text/plain": [
       "\n",
       "\tPairwise comparisons using paired t tests \n",
       "\n",
       "data:  mdf_nonoise$music_mood and mdf_nonoise$condition \n",
       "\n",
       "        arousal depth  \n",
       "depth   0.0057  -      \n",
       "valence 3.7e-14 2.3e-08\n",
       "\n",
       "P value adjustment method: bonferroni "
      ]
     },
     "metadata": {},
     "output_type": "display_data"
    }
   ],
   "source": [
    "mdf_nonoise <- filter(mdf, condition != 'noise')\n",
    "\n",
    "model <- ezANOVA(mdf_nonoise, dv = music_mood, within = condition, wid = sub_id)\n",
    "\n",
    "print(model) \n",
    "pairwise.t.test(mdf_nonoise$music_mood, mdf_nonoise$condition, paired = T, p.adjust.method = \"bonferroni\")"
   ]
  },
  {
   "cell_type": "code",
   "execution_count": 51,
   "metadata": {},
   "outputs": [
    {
     "name": "stderr",
     "output_type": "stream",
     "text": [
      "Warning message:\n",
      "“Collapsing data to cell means. *IF* the requested effects are a subset of the full design, you must use the \"within_full\" argument, else results may be inaccurate.”"
     ]
    },
    {
     "name": "stdout",
     "output_type": "stream",
     "text": [
      "$ANOVA\n",
      "     Effect DFn DFd        F            p p<.05        ges\n",
      "2 condition   3 237 6.218754 0.0004406982     * 0.01444658\n",
      "\n",
      "$`Mauchly's Test for Sphericity`\n",
      "     Effect         W         p p<.05\n",
      "2 condition 0.9754081 0.8580434      \n",
      "\n",
      "$`Sphericity Corrections`\n",
      "     Effect       GGe        p[GG] p[GG]<.05    HFe        p[HF] p[HF]<.05\n",
      "2 condition 0.9832956 0.0004805678         * 1.0256 0.0004406982         *\n",
      "\n"
     ]
    },
    {
     "data": {
      "text/plain": [
       "\n",
       "\tPairwise comparisons using paired t tests \n",
       "\n",
       "data:  mdf$own_mood and mdf$condition \n",
       "\n",
       "        arousal depth  noise \n",
       "depth   1.0000  -      -     \n",
       "noise   0.0109  0.0088 -     \n",
       "valence 1.0000  1.0000 0.0024\n",
       "\n",
       "P value adjustment method: bonferroni "
      ]
     },
     "metadata": {},
     "output_type": "display_data"
    }
   ],
   "source": [
    "model <- ezANOVA(mdf, dv = own_mood, within = condition, wid = sub_id)\n",
    "print(model) \n",
    "pairwise.t.test(mdf$own_mood, mdf$condition, paired = T, p.adjust.method = \"bonferroni\")"
   ]
  },
  {
   "cell_type": "code",
   "execution_count": null,
   "metadata": {},
   "outputs": [],
   "source": []
  }
 ],
 "metadata": {
  "kernelspec": {
   "display_name": "R",
   "language": "R",
   "name": "ir"
  },
  "language_info": {
   "codemirror_mode": "r",
   "file_extension": ".r",
   "mimetype": "text/x-r-source",
   "name": "R",
   "pygments_lexer": "r",
   "version": "3.6.1"
  }
 },
 "nbformat": 4,
 "nbformat_minor": 4
}
